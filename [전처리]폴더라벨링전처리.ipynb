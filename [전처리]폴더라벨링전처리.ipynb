{
 "cells": [
  {
   "cell_type": "code",
   "execution_count": 1,
   "metadata": {},
   "outputs": [],
   "source": [
    "#!pip install pandas\n",
    "#from pycocotools.coco import COCO\n",
    "import numpy as np\n",
    "import json\n",
    "#from PIL import Image\n",
    "#import skimage.io as io\n",
    "#import matplotlib.pyplot as plt\n",
    "#import pylab\n",
    "import os\n",
    "import shutil\n",
    "#pylab.rcParams['figure.figsize'] = (8.0, 10.0)\n",
    "#%matplotlib inline\n",
    "import os\n",
    "import requests\n",
    "import time\n",
    "from random import uniform\n",
    "import pandas as pd\n",
    "import csv\n",
    "import re"
   ]
  },
  {
   "cell_type": "code",
   "execution_count": 6,
   "metadata": {},
   "outputs": [
    {
     "data": {
      "text/plain": [
       "['color.csv']"
      ]
     },
     "execution_count": 6,
     "metadata": {},
     "output_type": "execute_result"
    }
   ],
   "source": [
    "path = \"./\" #파일경로\n",
    "sdir = path+'0423_final_crawl/'\n",
    "imgdir = path+'train/'\n",
    "file_list = os.listdir(path)\n",
    "file_list_csv = [file for file in file_list if file.endswith(\".csv\")]#csv 만\n",
    "#print (\"file_list: {}\".format(file_list_csv))\n",
    "file_list_csv"
   ]
  },
  {
   "cell_type": "code",
   "execution_count": 8,
   "metadata": {},
   "outputs": [],
   "source": [
    "f = open(path+'color.csv',encoding='utf-8')\n",
    "rdr = csv.reader(f)\n",
    "next(rdr)\n",
    "for line in rdr:\n",
    "    line[9]=re.sub('[/]','',line[9]) #폴더생성에 방해되는 슬레시 제거\n",
    "    if \"기타\" in [line[4],line[5],line[6],line[9]]: #속성에 기타가 포함되면 작업 하지 않음\n",
    "        pass\n",
    "    else:\n",
    "        try:\n",
    "            if not(os.path.isdir(imgdir+line[4]+'_'+line[5]+'_'+line[6]+'_'+line[9]+'_'+line[12])): #속성명으로 만들어진 폴더가 있는지 확인\n",
    "                os.makedirs(os.path.join(imgdir+line[4]+'_'+line[5]+'_'+line[6]+'_'+line[9]+'_'+line[12]))#속성명으로 폴더 생성\n",
    "            else:\n",
    "                #print('이미존재하는디렉터리')        \n",
    "                pass\n",
    "        except OSError as e:\n",
    "            if e.errno != errno.EEXIST:\n",
    "                print(\"Failed to create directory!!!!!\")\n",
    "                raise\n",
    "        shutil.copy(sdir+line[11],imgdir+line[4]+'_'+line[5]+'_'+line[6]+'_'+line[9]+'_'+line[12]+'/')#원폰 그림파일을 분류 폴더로\n",
    "        #print('./one/data/'+line[11],'./one/'+line[4]+'_'+line[5]+'_'+line[6]+'_'+line[9]+'/')#메시지 표시\n",
    "f.close()"
   ]
  },
  {
   "cell_type": "code",
   "execution_count": null,
   "metadata": {},
   "outputs": [],
   "source": []
  }
 ],
 "metadata": {
  "kernelspec": {
   "display_name": "Python 3",
   "language": "python",
   "name": "python3"
  },
  "language_info": {
   "codemirror_mode": {
    "name": "ipython",
    "version": 3
   },
   "file_extension": ".py",
   "mimetype": "text/x-python",
   "name": "python",
   "nbconvert_exporter": "python",
   "pygments_lexer": "ipython3",
   "version": "3.7.5"
  }
 },
 "nbformat": 4,
 "nbformat_minor": 4
}
