{
 "cells": [
  {
   "cell_type": "code",
   "execution_count": 1,
   "metadata": {},
   "outputs": [],
   "source": [
    "import os\n",
    "import shutil\n",
    "import csv\n",
    "import re"
   ]
  },
  {
   "cell_type": "code",
   "execution_count": 2,
   "metadata": {},
   "outputs": [
    {
     "data": {
      "text/plain": [
       "['csv_80094312047.csv',\n",
       " 'csv_81482574920.csv',\n",
       " 'csv_81807301178.csv',\n",
       " 'csv_81887502677.csv',\n",
       " 'csv_81952903123.csv',\n",
       " 'csv_81973222765.csv',\n",
       " 'csv_81993974037.csv',\n",
       " 'csv_81999444458.csv',\n",
       " 'csv_82001819851.csv',\n",
       " 'csv_82029527932.csv']"
      ]
     },
     "execution_count": 2,
     "metadata": {},
     "output_type": "execute_result"
    }
   ],
   "source": [
    "#전체 정보가 있는 파일은 미리 이동하여 CSV PNG 가 1:1 대응되는 상태로 폴더를 구성\n",
    "path = \"./0423_final_crawl/\" #파일경로\n",
    "file_list = os.listdir(path)\n",
    "file_list_csv = [file for file in file_list if file.endswith(\".csv\")]#csv 만\n",
    "file_list_csv[0:10]"
   ]
  },
  {
   "cell_type": "code",
   "execution_count": 3,
   "metadata": {},
   "outputs": [
    {
     "name": "stdout",
     "output_type": "stream",
     "text": [
      "912 개의 상품을 이동하였습니다.  1824 개의 파일\n"
     ]
    }
   ],
   "source": [
    "count=0\n",
    "for file in file_list_csv:\n",
    "    f = open(path+file, 'r', encoding='utf-8')\n",
    "    rdr = csv.reader(f)\n",
    "    next(rdr)\n",
    "    a=0\n",
    "    for line in rdr:\n",
    "        if not(os.path.isdir(path+'기타/')): #기타 폴더가 없으면\n",
    "                    os.makedirs(os.path.join(path+'기타/'))#기타 폴더 만들기\n",
    "        else:\n",
    "            #print('이미존재하는디렉터리')  \n",
    "            pass\n",
    "        line[9]=re.sub('[/]','',line[9]) #폴더생성에 방해되는 슬레시 제거\n",
    "        if \"기타\" in [line[4],line[5],line[6],line[9]]: #속성에 기타가 포함되면 작업 하지 않음\n",
    "            a=1 #기타 가 포함되면 a의 상태를 변경해서 \n",
    "            count=count+1\n",
    "            shutil.move(path+line[11],path+'기타/') #이미지 파일 이동       \n",
    "    f.close()#열었던 파일을 이동하기 위해 미리 닫음\n",
    "    if a==1:\n",
    "        shutil.move(path+file,path+'기타/') #파일을 닫아야 이동이 가능하므로 a의 상태에 따라 이동\n",
    "    else:\n",
    "        pass    \n",
    "print(count,\"개의 상품을 이동하였습니다. \",count*2,\"개의 파일\")"
   ]
  },
  {
   "cell_type": "code",
   "execution_count": 4,
   "metadata": {},
   "outputs": [
    {
     "data": {
      "text/plain": [
       "4235"
      ]
     },
     "execution_count": 4,
     "metadata": {},
     "output_type": "execute_result"
    }
   ],
   "source": [
    "len(file_list_csv)"
   ]
  },
  {
   "cell_type": "code",
   "execution_count": null,
   "metadata": {},
   "outputs": [],
   "source": []
  }
 ],
 "metadata": {
  "kernelspec": {
   "display_name": "Python 3",
   "language": "python",
   "name": "python3"
  },
  "language_info": {
   "codemirror_mode": {
    "name": "ipython",
    "version": 3
   },
   "file_extension": ".py",
   "mimetype": "text/x-python",
   "name": "python",
   "nbconvert_exporter": "python",
   "pygments_lexer": "ipython3",
   "version": "3.7.5"
  }
 },
 "nbformat": 4,
 "nbformat_minor": 2
}
