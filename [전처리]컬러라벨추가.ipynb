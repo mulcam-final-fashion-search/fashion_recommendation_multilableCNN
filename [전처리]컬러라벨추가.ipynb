{
 "cells": [
  {
   "cell_type": "code",
   "execution_count": 2,
   "metadata": {},
   "outputs": [],
   "source": [
    "import os\n",
    "import shutil\n",
    "import csv\n",
    "import re"
   ]
  },
  {
   "cell_type": "code",
   "execution_count": 19,
   "metadata": {},
   "outputs": [],
   "source": [
    "alldata=[]\n",
    "count=0\n",
    "#path = \"./0423_final_crawl/\" #파일경로\n",
    "file = \"final_200424.csv\"\n",
    "f = open(file, 'r', encoding='utf-8')\n",
    "rdr = csv.reader(f)\n",
    "for header in rdr:\n",
    "    alldata.append(header)\n",
    "    break\n",
    "for line in rdr:\n",
    "    if (os.path.isfile('./red/'+line[11])):#red 폴더에 해당 그림 파일이 있으면 red로 라벨링\n",
    "        line[12]='red'    \n",
    "    if (os.path.isfile('./green/'+line[11])):\n",
    "        line[12]='green'    \n",
    "    if (os.path.isfile('./blue/'+line[11])):\n",
    "        line[12]='blue'    \n",
    "    if (os.path.isfile('./black/'+line[11])):\n",
    "        line[12]='black'      \n",
    "    count=count+1\n",
    "    alldata.append(line)\n",
    "f.close()"
   ]
  },
  {
   "cell_type": "code",
   "execution_count": 23,
   "metadata": {},
   "outputs": [],
   "source": [
    "#CSV 로 저장\n",
    "import pandas as pd\n",
    "df=pd.DataFrame(alldata)\n",
    "df.to_csv('final_200424_color.csv',index=False, header= False)"
   ]
  },
  {
   "cell_type": "code",
   "execution_count": null,
   "metadata": {},
   "outputs": [],
   "source": []
  }
 ],
 "metadata": {
  "kernelspec": {
   "display_name": "Python 3",
   "language": "python",
   "name": "python3"
  },
  "language_info": {
   "codemirror_mode": {
    "name": "ipython",
    "version": 3
   },
   "file_extension": ".py",
   "mimetype": "text/x-python",
   "name": "python",
   "nbconvert_exporter": "python",
   "pygments_lexer": "ipython3",
   "version": "3.7.5"
  }
 },
 "nbformat": 4,
 "nbformat_minor": 4
}
